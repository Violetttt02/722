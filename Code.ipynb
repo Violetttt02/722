{
 "cells": [
  {
   "cell_type": "code",
   "execution_count": 3,
   "id": "5c2e440e",
   "metadata": {},
   "outputs": [],
   "source": [
    "import findspark\n",
    "findspark.init('/home/ubuntu/spark-3.2.1-bin-hadoop2.7')\n",
    "import pyspark\n",
    "from pyspark.sql import SparkSession\n",
    "spark = SparkSession.builder.appName('code').getOrCreate()"
   ]
  },
  {
   "cell_type": "code",
   "execution_count": 4,
   "id": "9b7d3875",
   "metadata": {
    "scrolled": true
   },
   "outputs": [],
   "source": [
    "df1 = spark.read.csv('DEI_Dataset.csv', inferSchema=True, header=True)\n",
    "df2 = spark.read.csv('DEI_2.csv', inferSchema=True, header=True)\n",
    "\n",
    "df = df1.join(df2, df1.Id == df2.Id,\"inner\")"
   ]
  },
  {
   "cell_type": "markdown",
   "id": "d7cedb6c",
   "metadata": {},
   "source": [
    "# Data exploration"
   ]
  },
  {
   "cell_type": "code",
   "execution_count": 5,
   "id": "4bf571f3",
   "metadata": {
    "scrolled": true
   },
   "outputs": [
    {
     "name": "stdout",
     "output_type": "stream",
     "text": [
      "+---+---------+---------+--------+-------+------+------------------+-----+----------+---------+----------+--------+-------+-------------+------+--------------------+---+--------------+-----------+-----------+----------------+-------------+\n",
      "| Id|     Name|  Surname|Division|Manager|Gender|Sexual_Orientation|LGBTQ|Indigenous|Ethnicity|Disability|Minority|Veteran|Date of Birth|   Age|               Email| Id|Preferred Name|Nationality|    Hobbies|        Pronouns|Mobile Number|\n",
      "+---+---------+---------+--------+-------+------+------------------+-----+----------+---------+----------+--------+-------+-------------+------+--------------------+---+--------------+-----------+-----------+----------------+-------------+\n",
      "|  1|  Deborah|  Addison|       0|      0|     3|                 0|    2|         0|        0|         1|       0|      0|    4/06/1993| 300.0|Deborah.Addison@m...|  1|       Deborah|     Polish| Travelling|They/them/theirs| 363 436 1096|\n",
      "|  2|     Mona|     Hill|       1|      0|     0|                 0|    0|         1|        0|         0|       1|      0|    2/08/1963|   5.9|   Mona.Hill@mail.ca|  2|          Mona|        Lao|    Reading|      He/him/his| 905 980 9989|\n",
      "|  3| Kimberly|  Shelton|       2|      0|     1|                 0|    0|         0|        0|         0|       0|      0|   25/04/1979|1000.0|Kimberly.Shelton@...|  3|      Kimberly|   Canadian|     Sports|    She/her/hers| 788 356 1577|\n",
      "|  4|    Denis| Robinson|       3|      0|     0|                 0|    0|         0|        0|         1|       1|      0|   11/02/1978|  44.0|Denis.Robinson@ma...|  4|         Denis|   Canadian|     Sports|      He/him/his| 946 855 5822|\n",
      "|  5|   Carmen|     Gunn|       4|      0|     0|                 0|    0|         0|        1|         0|       0|      0|   11/03/1972|  50.0| Carmen.Gunn@mail.ca|  5|        Carmen|     Korean|    Cooking|      He/him/his| 537 895 4532|\n",
      "|  6|   Nathan|  Furnell|       5|      0|     0|                 0|    0|         0|        2|         0|       0|      0|   11/01/1985|  37.0|Nathan.Furnell@ma...|  6|        Nathan|   Canadian|      Music|      He/him/his| 317 280 1655|\n",
      "|  7|     Luke| Sinclair|       1|      0|     0|                 3|    1|         0|        0|         0|       1|      0|    4/09/1988|  34.0|Luke.Sinclair@mai...|  7|          Luke|    English|      Music|      He/him/his| 500 192 9313|\n",
      "|  8|     Fred|   Callan|       5|      0|     0|                 0|    0|         0|        0|         0|       1|      0|    9/11/1994|  27.0| Fred.Callan@mail.ca|  8|          Fred|  Norwegian|     Sports|      He/him/his| 531 698 4421|\n",
      "|  9|   Carter|     Owen|       2|      0|     0|                 0|    0|         0|        2|         0|       1|      0|         null|  52.0| Carter.Owen@mail.ca|  9|        Carter|     Indian|Video Games|      He/him/his| 273 624 1755|\n",
      "| 10|    Harry|   Dobson|       5|      0|     0|                 0|    0|         0|        2|         0|       0|      0|   28/02/1975|  47.0|Harry.Dobson@mail.ca| 10|         Harry|     Indian|   Crafting|      He/him/his| 648 541 9503|\n",
      "| 11|    Ramon|   Mccall|       5|      0|     0|                 0|    0|         0|        0|         0|       0|      0|   27/03/1968|  54.0|Ramon.Mccall@mail.ca| 11|         Ramon|     Indian| Travelling|      He/him/his| 502 332 1292|\n",
      "| 12|     Fred|   Wilton|       4|      0|     1|                 0|    2|         0|        3|         0|       0|      0|    1/01/1987|  35.0| Fred.Wilton@mail.ca| 12|          Fred|     Indian| Travelling|    She/her/hers| 773 530 6142|\n",
      "| 13|     Nick|    Sloan|       6|      0|     2|                 0|    0|         0|        2|         0|       0|      0|   11/01/1968|  54.0|  Nick.Sloan@mail.ca| 13|          Nick|  Jordanian|Video Games|     Ze/hir/hirs| 568 569 7849|\n",
      "| 14|Kassandra|  Jarrett|       6|      0|     0|                 0|    0|         0|        3|         0|       0|      0|   13/02/1990|  32.0|Kassandra.Jarrett...| 14|     Kassandra| Sri Lankan| Travelling|      He/him/his| 790 679 8854|\n",
      "| 15|   Russel|   Larsen|       5|      0|     0|                 0|    0|         0|        0|         0|       0|      0|   11/01/1993|  29.0|Russel.Larsen@mai...| 15|        Russel|   Canadian|     Sports|      He/him/his| 368 391 2838|\n",
      "| 16|     Rhea|   Latham|       0|      0|     0|                 0|    0|         0|        3|         0|       0|      0|    6/08/1990|  32.0| Rhea.Latham@mail.ca| 16|          Rhea|    British|    Cooking|      He/him/his| 869 635 9373|\n",
      "| 17|  Liliana|     Todd|       3|      0|     0|                 0|    0|         0|        0|         0|       0|      0|   17/02/1983|  39.0|Liliana.Todd@mail.ca| 17|       Liliana|   Canadian|     Sports|      He/him/his| 431 833 4660|\n",
      "| 18|     Brad|  Windsor|       6|      0|     0|                 0|    0|         0|        0|         0|       0|      0|   14/10/1988|  33.0|Brad.Windsor@mail.ca| 18|          Brad|   Canadian|     Sports|      He/him/his| 593 241 3231|\n",
      "| 19|    David|   Russel|       0|      0|     4|                 0|    0|         0|        0|         0|       1|      0|         null|  29.0|David.Russel@mail.ca| 19|         David|   Canadian|    Cooking|They/them/theirs| 182 385 7034|\n",
      "| 20|   Carina|Robertson|       3|      0|     2|                 3|    1|         1|        0|         0|       1|      0|   19/10/1987|  34.0|Carina.Robertson@...| 20|        Carina|  Brazilian| Travelling|They/them/theirs| 692 380 3747|\n",
      "+---+---------+---------+--------+-------+------+------------------+-----+----------+---------+----------+--------+-------+-------------+------+--------------------+---+--------------+-----------+-----------+----------------+-------------+\n",
      "only showing top 20 rows\n",
      "\n"
     ]
    }
   ],
   "source": [
    "df.show()"
   ]
  },
  {
   "cell_type": "code",
   "execution_count": 6,
   "id": "66c98557",
   "metadata": {},
   "outputs": [
    {
     "name": "stderr",
     "output_type": "stream",
     "text": [
      "\r",
      "[Stage 11:>                                                         (0 + 1) / 1]\r"
     ]
    },
    {
     "name": "stdout",
     "output_type": "stream",
     "text": [
      "+-------+------------------+-----+-------+------------------+------------------+------------------+------------------+------------------+-------------------+------------------+-------------------+------------------+------------------+-------------+------------------+--------------------+------------------+--------------+-----------+-----------+-----------+-------------+\n",
      "|summary|                Id| Name|Surname|          Division|           Manager|            Gender|Sexual_Orientation|             LGBTQ|         Indigenous|         Ethnicity|         Disability|          Minority|           Veteran|Date of Birth|               Age|               Email|                Id|Preferred Name|Nationality|    Hobbies|   Pronouns|Mobile Number|\n",
      "+-------+------------------+-----+-------+------------------+------------------+------------------+------------------+------------------+-------------------+------------------+-------------------+------------------+------------------+-------------+------------------+--------------------+------------------+--------------+-----------+-----------+-----------+-------------+\n",
      "|  count|             10000|10000|  10000|             10000|             10000|             10000|             10000|             10000|              10000|             10000|              10000|             10000|             10000|         9976|              9979|               10000|             10000|         10000|      10000|      10000|      10000|        10000|\n",
      "|   mean|            5000.5| null|   null|            2.7607|            0.0981|            0.5443|            0.4281|            0.2471|              0.066|            0.5399|             0.2113|            0.2406|            0.0287|         null| 38.94437318368574|                null|            5000.5|          null|       null|       null|       null|         null|\n",
      "| stddev|2886.8956799071675| null|   null|2.1785568895514547|0.2974646844986014|0.8542309295782393|1.0217312677403703|0.5618479841698563|0.27973527697185135|1.0645756535503772|0.47273106251413954|0.4502576075884987|0.2174420338936568|         null|14.227663591053847|                null|2886.8956799071675|          null|       null|       null|       null|         null|\n",
      "|    min|                 1|Abbey|  Abbey|                 0|                 0|                 0|                 0|                 0|                  0|                 0|                  0|                 0|                 0|    1/01/1957|               5.9|Abbey.Collis@mail.ca|                 1|         Abbey|     Afghan|    Cooking|  E/em/eirs| 100 215 4543|\n",
      "|    max|             10000|  Zoe|  Zaoui|                 6|                 1|                 5|                 4|                 2|                  2|                 5|                  2|                 2|                 2|    9/12/1997|            1000.0|  Zoe.Walker@mail.ca|             10000|           Zoe| Zimbabwean|Video Games|Ze/zir/zirs| 999 981 3927|\n",
      "+-------+------------------+-----+-------+------------------+------------------+------------------+------------------+------------------+-------------------+------------------+-------------------+------------------+------------------+-------------+------------------+--------------------+------------------+--------------+-----------+-----------+-----------+-------------+\n",
      "\n"
     ]
    },
    {
     "name": "stderr",
     "output_type": "stream",
     "text": [
      "\r",
      "[Stage 13:>                                                         (0 + 1) / 1]\r",
      "\r",
      "                                                                                \r"
     ]
    }
   ],
   "source": [
    "df.describe().show()"
   ]
  },
  {
   "cell_type": "code",
   "execution_count": 7,
   "id": "5a663119",
   "metadata": {},
   "outputs": [
    {
     "name": "stdout",
     "output_type": "stream",
     "text": [
      "root\n",
      " |-- Id: integer (nullable = true)\n",
      " |-- Name: string (nullable = true)\n",
      " |-- Surname: string (nullable = true)\n",
      " |-- Division: integer (nullable = true)\n",
      " |-- Manager: integer (nullable = true)\n",
      " |-- Gender: integer (nullable = true)\n",
      " |-- Sexual_Orientation: integer (nullable = true)\n",
      " |-- LGBTQ: integer (nullable = true)\n",
      " |-- Indigenous: integer (nullable = true)\n",
      " |-- Ethnicity: integer (nullable = true)\n",
      " |-- Disability: integer (nullable = true)\n",
      " |-- Minority: integer (nullable = true)\n",
      " |-- Veteran: integer (nullable = true)\n",
      " |-- Date of Birth: string (nullable = true)\n",
      " |-- Age: double (nullable = true)\n",
      " |-- Email: string (nullable = true)\n",
      " |-- Id: integer (nullable = true)\n",
      " |-- Preferred Name: string (nullable = true)\n",
      " |-- Nationality: string (nullable = true)\n",
      " |-- Hobbies: string (nullable = true)\n",
      " |-- Pronouns: string (nullable = true)\n",
      " |-- Mobile Number: string (nullable = true)\n",
      "\n"
     ]
    }
   ],
   "source": [
    "df.printSchema()"
   ]
  },
  {
   "cell_type": "markdown",
   "id": "d56fef19",
   "metadata": {},
   "source": [
    "# Data Manipulation"
   ]
  },
  {
   "cell_type": "code",
   "execution_count": 8,
   "id": "efe635ae",
   "metadata": {},
   "outputs": [],
   "source": [
    "from pyspark.sql.types import (StructField,StringType,IntegerType,StructType)"
   ]
  },
  {
   "cell_type": "code",
   "execution_count": 9,
   "id": "74ec4aef",
   "metadata": {},
   "outputs": [
    {
     "name": "stdout",
     "output_type": "stream",
     "text": [
      "+------+\n",
      "|   age|\n",
      "+------+\n",
      "| 300.0|\n",
      "|   5.9|\n",
      "|1000.0|\n",
      "|  44.0|\n",
      "|  50.0|\n",
      "|  37.0|\n",
      "|  34.0|\n",
      "|  27.0|\n",
      "|  52.0|\n",
      "|  47.0|\n",
      "|  54.0|\n",
      "|  35.0|\n",
      "|  54.0|\n",
      "|  32.0|\n",
      "|  29.0|\n",
      "|  32.0|\n",
      "|  39.0|\n",
      "|  33.0|\n",
      "|  29.0|\n",
      "|  34.0|\n",
      "+------+\n",
      "only showing top 20 rows\n",
      "\n",
      "+-------------+\n",
      "|Date of birth|\n",
      "+-------------+\n",
      "|    4/06/1993|\n",
      "|    2/08/1963|\n",
      "|   25/04/1979|\n",
      "|   11/02/1978|\n",
      "|   11/03/1972|\n",
      "|   11/01/1985|\n",
      "|    4/09/1988|\n",
      "|    9/11/1994|\n",
      "|         null|\n",
      "|   28/02/1975|\n",
      "|   27/03/1968|\n",
      "|    1/01/1987|\n",
      "|   11/01/1968|\n",
      "|   13/02/1990|\n",
      "|   11/01/1993|\n",
      "|    6/08/1990|\n",
      "|   17/02/1983|\n",
      "|   14/10/1988|\n",
      "|         null|\n",
      "|   19/10/1987|\n",
      "+-------------+\n",
      "only showing top 20 rows\n",
      "\n"
     ]
    }
   ],
   "source": [
    "df.select('age').show()\n",
    "\n",
    "df.select('Date of birth').show()"
   ]
  },
  {
   "cell_type": "code",
   "execution_count": 10,
   "id": "df5cb695",
   "metadata": {},
   "outputs": [
    {
     "name": "stdout",
     "output_type": "stream",
     "text": [
      "+---------+-----+\n",
      "|Ethnicity|count|\n",
      "+---------+-----+\n",
      "|        1| 1718|\n",
      "|        3|  352|\n",
      "|        5|  105|\n",
      "|        4|  317|\n",
      "|        2|  416|\n",
      "|        0| 7092|\n",
      "+---------+-----+\n",
      "\n"
     ]
    }
   ],
   "source": [
    "result = df.groupBy(\"Ethnicity\").count()\n",
    "\n",
    "# Show the results\n",
    "result.show()"
   ]
  },
  {
   "cell_type": "code",
   "execution_count": 11,
   "id": "ad39e132",
   "metadata": {},
   "outputs": [
    {
     "name": "stdout",
     "output_type": "stream",
     "text": [
      "+-------+-----+\n",
      "|Manager|count|\n",
      "+-------+-----+\n",
      "|      1|  981|\n",
      "|      0| 9019|\n",
      "+-------+-----+\n",
      "\n"
     ]
    }
   ],
   "source": [
    "result = df.groupBy(\"Manager\").count()\n",
    "\n",
    "# Show the results\n",
    "result.show()"
   ]
  },
  {
   "cell_type": "code",
   "execution_count": 12,
   "id": "69a45db8",
   "metadata": {},
   "outputs": [
    {
     "name": "stdout",
     "output_type": "stream",
     "text": [
      "+--------+-----+\n",
      "|Division|count|\n",
      "+--------+-----+\n",
      "|       1| 1340|\n",
      "|       6| 1227|\n",
      "|       3|  990|\n",
      "|       5| 2245|\n",
      "|       4|  463|\n",
      "|       2| 1429|\n",
      "|       0| 2306|\n",
      "+--------+-----+\n",
      "\n"
     ]
    }
   ],
   "source": [
    "result = df.groupBy(\"Division\").count()\n",
    "\n",
    "# Show the results\n",
    "result.show()"
   ]
  },
  {
   "cell_type": "code",
   "execution_count": 13,
   "id": "4ce8b875",
   "metadata": {},
   "outputs": [
    {
     "name": "stdout",
     "output_type": "stream",
     "text": [
      "+------------------+-----+\n",
      "|Sexual_Orientation|count|\n",
      "+------------------+-----+\n",
      "|                 1|  103|\n",
      "|                 3|  972|\n",
      "|                 4|  112|\n",
      "|                 2|  407|\n",
      "|                 0| 8406|\n",
      "+------------------+-----+\n",
      "\n"
     ]
    }
   ],
   "source": [
    "result = df.groupBy(\"Sexual_Orientation\").count()\n",
    "\n",
    "# Show the results\n",
    "result.show()"
   ]
  },
  {
   "cell_type": "code",
   "execution_count": 14,
   "id": "a0f7bab9",
   "metadata": {},
   "outputs": [
    {
     "name": "stdout",
     "output_type": "stream",
     "text": [
      "+------+-----+\n",
      "|Gender|count|\n",
      "+------+-----+\n",
      "|     1| 3388|\n",
      "|     3|   97|\n",
      "|     5|  106|\n",
      "|     4|  110|\n",
      "|     2|  397|\n",
      "|     0| 5902|\n",
      "+------+-----+\n",
      "\n"
     ]
    }
   ],
   "source": [
    "result = df.groupBy(\"Gender\").count()\n",
    "\n",
    "# Show the results\n",
    "result.show()"
   ]
  },
  {
   "cell_type": "code",
   "execution_count": 15,
   "id": "3c594bb8",
   "metadata": {},
   "outputs": [
    {
     "name": "stdout",
     "output_type": "stream",
     "text": [
      "+-----+-----+\n",
      "|LGBTQ|count|\n",
      "+-----+-----+\n",
      "|    1| 1175|\n",
      "|    2|  648|\n",
      "|    0| 8177|\n",
      "+-----+-----+\n",
      "\n"
     ]
    }
   ],
   "source": [
    "result = df.groupBy(\"LGBTQ\").count()\n",
    "\n",
    "# Show the results\n",
    "result.show()"
   ]
  },
  {
   "cell_type": "code",
   "execution_count": 16,
   "id": "032ec0ec",
   "metadata": {},
   "outputs": [
    {
     "name": "stdout",
     "output_type": "stream",
     "text": [
      "+----------+-----+\n",
      "|Indigenous|count|\n",
      "+----------+-----+\n",
      "|         1|  494|\n",
      "|         2|   83|\n",
      "|         0| 9423|\n",
      "+----------+-----+\n",
      "\n"
     ]
    }
   ],
   "source": [
    "result = df.groupBy(\"Indigenous\").count()\n",
    "\n",
    "# Show the results\n",
    "result.show()"
   ]
  },
  {
   "cell_type": "code",
   "execution_count": 17,
   "id": "f20947b6",
   "metadata": {},
   "outputs": [
    {
     "name": "stdout",
     "output_type": "stream",
     "text": [
      "+----------+-----+\n",
      "|Disability|count|\n",
      "+----------+-----+\n",
      "|         1| 1545|\n",
      "|         2|  284|\n",
      "|         0| 8171|\n",
      "+----------+-----+\n",
      "\n"
     ]
    }
   ],
   "source": [
    "result = df.groupBy(\"Disability\").count()\n",
    "\n",
    "# Show the results\n",
    "result.show()"
   ]
  },
  {
   "cell_type": "code",
   "execution_count": 18,
   "id": "8c95f9e7",
   "metadata": {},
   "outputs": [
    {
     "name": "stdout",
     "output_type": "stream",
     "text": [
      "+--------+-----+\n",
      "|Minority|count|\n",
      "+--------+-----+\n",
      "|       1| 2206|\n",
      "|       2|  100|\n",
      "|       0| 7694|\n",
      "+--------+-----+\n",
      "\n"
     ]
    }
   ],
   "source": [
    "result = df.groupBy(\"Minority\").count()\n",
    "\n",
    "# Show the results\n",
    "result.show()"
   ]
  },
  {
   "cell_type": "code",
   "execution_count": 19,
   "id": "4b0c7589",
   "metadata": {},
   "outputs": [
    {
     "name": "stdout",
     "output_type": "stream",
     "text": [
      "+-------+-----+\n",
      "|Veteran|count|\n",
      "+-------+-----+\n",
      "|      1|   93|\n",
      "|      2|   97|\n",
      "|      0| 9810|\n",
      "+-------+-----+\n",
      "\n"
     ]
    }
   ],
   "source": [
    "result = df.groupBy(\"Veteran\").count()\n",
    "\n",
    "# Show the results\n",
    "result.show()"
   ]
  },
  {
   "cell_type": "code",
   "execution_count": 20,
   "id": "c81739a5",
   "metadata": {},
   "outputs": [
    {
     "name": "stdout",
     "output_type": "stream",
     "text": [
      "+-------+----+----+---+\n",
      "|Manager|   0|   1|  2|\n",
      "+-------+----+----+---+\n",
      "|      1| 812| 110| 59|\n",
      "|      0|7365|1065|589|\n",
      "+-------+----+----+---+\n",
      "\n"
     ]
    }
   ],
   "source": [
    "from pyspark.sql import SparkSession\n",
    "from pyspark.sql.functions import col, sum\n",
    "\n",
    "# Aggregate data\n",
    "result = df.groupBy(\"Manager\").pivot(\"LGBTQ\",[0,1,2]).count()\n",
    "\n",
    "# Show the results\n",
    "result.show()"
   ]
  },
  {
   "cell_type": "code",
   "execution_count": 21,
   "id": "fbd21645",
   "metadata": {},
   "outputs": [
    {
     "name": "stdout",
     "output_type": "stream",
     "text": [
      "+-------+----+----+---+---+---+---+\n",
      "|Manager|   0|   1|  2|  3|  4|  5|\n",
      "+-------+----+----+---+---+---+---+\n",
      "|      1| 560| 352| 38|  6| 13| 12|\n",
      "|      0|5342|3036|359| 91| 97| 94|\n",
      "+-------+----+----+---+---+---+---+\n",
      "\n"
     ]
    }
   ],
   "source": [
    "result = df.groupBy(\"Manager\").pivot(\"Gender\",[0,1,2,3,4,5]).count()\n",
    "\n",
    "# Show the results\n",
    "result.show()"
   ]
  },
  {
   "cell_type": "code",
   "execution_count": 22,
   "id": "37ea337d",
   "metadata": {},
   "outputs": [
    {
     "name": "stdout",
     "output_type": "stream",
     "text": [
      "+-------+----+---+---+---+\n",
      "|Manager|   0|  1|  2|  3|\n",
      "+-------+----+---+---+---+\n",
      "|      1| 826|  9| 42| 99|\n",
      "|      0|7580| 94|365|873|\n",
      "+-------+----+---+---+---+\n",
      "\n"
     ]
    }
   ],
   "source": [
    "result = df.groupBy(\"Manager\").pivot(\"Sexual_Orientation\",[0,1,2,3]).count()\n",
    "\n",
    "# Show the results\n",
    "result.show()"
   ]
  },
  {
   "cell_type": "code",
   "execution_count": 23,
   "id": "7af2ba5c",
   "metadata": {},
   "outputs": [
    {
     "name": "stdout",
     "output_type": "stream",
     "text": [
      "+-------+----+---+---+\n",
      "|Manager|   0|  1|  2|\n",
      "+-------+----+---+---+\n",
      "|      1| 932| 40|  9|\n",
      "|      0|8491|454| 74|\n",
      "+-------+----+---+---+\n",
      "\n"
     ]
    }
   ],
   "source": [
    "result = df.groupBy(\"Manager\").pivot(\"Indigenous\",[0,1,2]).count()\n",
    "\n",
    "# Show the results\n",
    "result.show()"
   ]
  },
  {
   "cell_type": "code",
   "execution_count": 24,
   "id": "6e1a190e",
   "metadata": {},
   "outputs": [
    {
     "name": "stdout",
     "output_type": "stream",
     "text": [
      "+-------+----+----+---+\n",
      "|Manager|   0|   1|  2|\n",
      "+-------+----+----+---+\n",
      "|      1| 819| 139| 23|\n",
      "|      0|7352|1406|261|\n",
      "+-------+----+----+---+\n",
      "\n"
     ]
    }
   ],
   "source": [
    "result = df.groupBy(\"Manager\").pivot(\"Disability\",[0,1,2]).count()\n",
    "\n",
    "# Show the results\n",
    "result.show()"
   ]
  },
  {
   "cell_type": "code",
   "execution_count": 25,
   "id": "a16ea02a",
   "metadata": {},
   "outputs": [
    {
     "name": "stdout",
     "output_type": "stream",
     "text": [
      "+-------+----+----+---+\n",
      "|Manager|   0|   1|  2|\n",
      "+-------+----+----+---+\n",
      "|      1| 726| 246|  9|\n",
      "|      0|6968|1960| 91|\n",
      "+-------+----+----+---+\n",
      "\n"
     ]
    }
   ],
   "source": [
    "result = df.groupBy(\"Manager\").pivot(\"Minority\",[0,1,2]).count()\n",
    "\n",
    "# Show the results\n",
    "result.show()"
   ]
  },
  {
   "cell_type": "code",
   "execution_count": 26,
   "id": "e86f791e",
   "metadata": {},
   "outputs": [
    {
     "name": "stdout",
     "output_type": "stream",
     "text": [
      "+-------+----+---+---+\n",
      "|Manager|   0|  1|  2|\n",
      "+-------+----+---+---+\n",
      "|      1| 962|  6| 13|\n",
      "|      0|8848| 87| 84|\n",
      "+-------+----+---+---+\n",
      "\n"
     ]
    }
   ],
   "source": [
    "result = df.groupBy(\"Manager\").pivot(\"Veteran\",[0,1,2]).count()\n",
    "\n",
    "# Show the results\n",
    "result.show()"
   ]
  },
  {
   "cell_type": "code",
   "execution_count": 27,
   "id": "183e987a",
   "metadata": {},
   "outputs": [
    {
     "name": "stdout",
     "output_type": "stream",
     "text": [
      "+-------+----+----+---+---+---+---+\n",
      "|Manager|   0|   1|  2|  3|  4|  5|\n",
      "+-------+----+----+---+---+---+---+\n",
      "|      1| 689| 177| 33| 40| 31| 11|\n",
      "|      0|6403|1541|383|312|286| 94|\n",
      "+-------+----+----+---+---+---+---+\n",
      "\n"
     ]
    }
   ],
   "source": [
    "result = df.groupBy(\"Manager\").pivot(\"Ethnicity\",[0,1,2,3,4,5]).count()\n",
    "\n",
    "# Show the results\n",
    "result.show()"
   ]
  },
  {
   "cell_type": "code",
   "execution_count": 28,
   "id": "5c31345a",
   "metadata": {},
   "outputs": [
    {
     "name": "stdout",
     "output_type": "stream",
     "text": [
      "+-------+----+----+----+---+---+----+----+\n",
      "|Manager|   0|   1|   2|  3|  4|   5|   6|\n",
      "+-------+----+----+----+---+---+----+----+\n",
      "|      1| 241| 129| 140| 97| 36| 207| 131|\n",
      "|      0|2065|1211|1289|893|427|2038|1096|\n",
      "+-------+----+----+----+---+---+----+----+\n",
      "\n"
     ]
    }
   ],
   "source": [
    "result = df.groupBy(\"Manager\").pivot(\"Division\",[0,1,2,3,4,5,6]).count()\n",
    "\n",
    "# Show the results\n",
    "result.show()"
   ]
  },
  {
   "cell_type": "markdown",
   "id": "8b723128",
   "metadata": {},
   "source": [
    "# Date cleaning"
   ]
  },
  {
   "cell_type": "code",
   "execution_count": 29,
   "id": "5102de45",
   "metadata": {},
   "outputs": [
    {
     "name": "stdout",
     "output_type": "stream",
     "text": [
      "Number of null values in Age: 21\n",
      "Number of null values in Date of Birth: 24\n"
     ]
    }
   ],
   "source": [
    "# Importing data which has a header. Schema is automatically configured.\n",
    "\n",
    "null_age = df.filter(df.Age.isNull())\n",
    "null_dob = df.filter(df[\"Date of Birth\"].isNull())\n",
    "\n",
    "null_age_count = null_age.count()\n",
    "null_dob_count = null_dob.count()\n",
    "\n",
    "print(f\"Number of null values in Age: {null_age_count}\")\n",
    "print(f\"Number of null values in Date of Birth: {null_dob_count}\")"
   ]
  },
  {
   "cell_type": "code",
   "execution_count": 30,
   "id": "15d51e17",
   "metadata": {},
   "outputs": [],
   "source": [
    "df= df.filter(df[\"Date of Birth\"].isNotNull())"
   ]
  },
  {
   "cell_type": "code",
   "execution_count": 31,
   "id": "403ddda2",
   "metadata": {},
   "outputs": [
    {
     "data": {
      "text/plain": [
       "38.821862754948256"
      ]
     },
     "execution_count": 31,
     "metadata": {},
     "output_type": "execute_result"
    }
   ],
   "source": [
    "from pyspark.sql.functions import mean, when\n",
    "\n",
    "# Let's collect the average. You'll notice that the collection returns the average in an interesting format.\n",
    "mean_age = df.filter((df.Age >=18) &(df.Age <=100)).select(mean(\"Age\")).collect()[0][0]\n",
    "mean_age"
   ]
  },
  {
   "cell_type": "code",
   "execution_count": 32,
   "id": "521f01ae",
   "metadata": {},
   "outputs": [],
   "source": [
    "df_1 = df.withColumn(\"Age\", when((df.Age < 18) | (df.Age > 100) | df.Age.isNull(), mean_age).otherwise(df.Age))"
   ]
  },
  {
   "cell_type": "code",
   "execution_count": 33,
   "id": "99a63a71",
   "metadata": {},
   "outputs": [
    {
     "name": "stdout",
     "output_type": "stream",
     "text": [
      "+---+---------+---------+--------+-------+------+------------------+-----+----------+---------+----------+--------+-------+-------------+------------------+--------------------+---+--------------+-----------+-----------+----------------+-------------+\n",
      "| Id|     Name|  Surname|Division|Manager|Gender|Sexual_Orientation|LGBTQ|Indigenous|Ethnicity|Disability|Minority|Veteran|Date of Birth|               Age|               Email| Id|Preferred Name|Nationality|    Hobbies|        Pronouns|Mobile Number|\n",
      "+---+---------+---------+--------+-------+------+------------------+-----+----------+---------+----------+--------+-------+-------------+------------------+--------------------+---+--------------+-----------+-----------+----------------+-------------+\n",
      "|  1|  Deborah|  Addison|       0|      0|     3|                 0|    2|         0|        0|         1|       0|      0|    4/06/1993|38.821862754948256|Deborah.Addison@m...|  1|       Deborah|     Polish| Travelling|They/them/theirs| 363 436 1096|\n",
      "|  2|     Mona|     Hill|       1|      0|     0|                 0|    0|         1|        0|         0|       1|      0|    2/08/1963|38.821862754948256|   Mona.Hill@mail.ca|  2|          Mona|        Lao|    Reading|      He/him/his| 905 980 9989|\n",
      "|  3| Kimberly|  Shelton|       2|      0|     1|                 0|    0|         0|        0|         0|       0|      0|   25/04/1979|38.821862754948256|Kimberly.Shelton@...|  3|      Kimberly|   Canadian|     Sports|    She/her/hers| 788 356 1577|\n",
      "|  4|    Denis| Robinson|       3|      0|     0|                 0|    0|         0|        0|         1|       1|      0|   11/02/1978|              44.0|Denis.Robinson@ma...|  4|         Denis|   Canadian|     Sports|      He/him/his| 946 855 5822|\n",
      "|  5|   Carmen|     Gunn|       4|      0|     0|                 0|    0|         0|        1|         0|       0|      0|   11/03/1972|              50.0| Carmen.Gunn@mail.ca|  5|        Carmen|     Korean|    Cooking|      He/him/his| 537 895 4532|\n",
      "|  6|   Nathan|  Furnell|       5|      0|     0|                 0|    0|         0|        2|         0|       0|      0|   11/01/1985|              37.0|Nathan.Furnell@ma...|  6|        Nathan|   Canadian|      Music|      He/him/his| 317 280 1655|\n",
      "|  7|     Luke| Sinclair|       1|      0|     0|                 3|    1|         0|        0|         0|       1|      0|    4/09/1988|              34.0|Luke.Sinclair@mai...|  7|          Luke|    English|      Music|      He/him/his| 500 192 9313|\n",
      "|  8|     Fred|   Callan|       5|      0|     0|                 0|    0|         0|        0|         0|       1|      0|    9/11/1994|              27.0| Fred.Callan@mail.ca|  8|          Fred|  Norwegian|     Sports|      He/him/his| 531 698 4421|\n",
      "| 10|    Harry|   Dobson|       5|      0|     0|                 0|    0|         0|        2|         0|       0|      0|   28/02/1975|              47.0|Harry.Dobson@mail.ca| 10|         Harry|     Indian|   Crafting|      He/him/his| 648 541 9503|\n",
      "| 11|    Ramon|   Mccall|       5|      0|     0|                 0|    0|         0|        0|         0|       0|      0|   27/03/1968|              54.0|Ramon.Mccall@mail.ca| 11|         Ramon|     Indian| Travelling|      He/him/his| 502 332 1292|\n",
      "| 12|     Fred|   Wilton|       4|      0|     1|                 0|    2|         0|        3|         0|       0|      0|    1/01/1987|              35.0| Fred.Wilton@mail.ca| 12|          Fred|     Indian| Travelling|    She/her/hers| 773 530 6142|\n",
      "| 13|     Nick|    Sloan|       6|      0|     2|                 0|    0|         0|        2|         0|       0|      0|   11/01/1968|              54.0|  Nick.Sloan@mail.ca| 13|          Nick|  Jordanian|Video Games|     Ze/hir/hirs| 568 569 7849|\n",
      "| 14|Kassandra|  Jarrett|       6|      0|     0|                 0|    0|         0|        3|         0|       0|      0|   13/02/1990|              32.0|Kassandra.Jarrett...| 14|     Kassandra| Sri Lankan| Travelling|      He/him/his| 790 679 8854|\n",
      "| 15|   Russel|   Larsen|       5|      0|     0|                 0|    0|         0|        0|         0|       0|      0|   11/01/1993|              29.0|Russel.Larsen@mai...| 15|        Russel|   Canadian|     Sports|      He/him/his| 368 391 2838|\n",
      "| 16|     Rhea|   Latham|       0|      0|     0|                 0|    0|         0|        3|         0|       0|      0|    6/08/1990|              32.0| Rhea.Latham@mail.ca| 16|          Rhea|    British|    Cooking|      He/him/his| 869 635 9373|\n",
      "| 17|  Liliana|     Todd|       3|      0|     0|                 0|    0|         0|        0|         0|       0|      0|   17/02/1983|              39.0|Liliana.Todd@mail.ca| 17|       Liliana|   Canadian|     Sports|      He/him/his| 431 833 4660|\n",
      "| 18|     Brad|  Windsor|       6|      0|     0|                 0|    0|         0|        0|         0|       0|      0|   14/10/1988|              33.0|Brad.Windsor@mail.ca| 18|          Brad|   Canadian|     Sports|      He/him/his| 593 241 3231|\n",
      "| 20|   Carina|Robertson|       3|      0|     2|                 3|    1|         1|        0|         0|       1|      0|   19/10/1987|              34.0|Carina.Robertson@...| 20|        Carina|  Brazilian| Travelling|They/them/theirs| 692 380 3747|\n",
      "| 21|    Henry|Ainsworth|       6|      0|     0|                 0|    0|         0|        0|         0|       0|      0|   12/05/1993|              29.0|Henry.Ainsworth@m...| 21|         Henry|   American|      Music|      He/him/his| 214 787 9989|\n",
      "| 22|  Chester|   Carson|       0|      0|     0|                 0|    0|         1|        0|         0|       0|      0|   30/01/1982|              40.0|Chester.Carson@ma...| 22|       Chester|   Canadian|   Crafting|      He/him/his| 493 511 7039|\n",
      "+---+---------+---------+--------+-------+------+------------------+-----+----------+---------+----------+--------+-------+-------------+------------------+--------------------+---+--------------+-----------+-----------+----------------+-------------+\n",
      "only showing top 20 rows\n",
      "\n"
     ]
    }
   ],
   "source": [
    "df_1.show()"
   ]
  },
  {
   "cell_type": "code",
   "execution_count": 34,
   "id": "06a55ab7",
   "metadata": {},
   "outputs": [
    {
     "name": "stderr",
     "output_type": "stream",
     "text": [
      "\r",
      "[Stage 136:>                                                        (0 + 1) / 1]\r"
     ]
    },
    {
     "name": "stdout",
     "output_type": "stream",
     "text": [
      "+-------+------------------+-----+-------+-----------------+-------------------+------------------+-------------------+-------------------+-------------------+------------------+-------------------+------------------+-------------------+-------------+------------------+--------------------+------------------+--------------+-----------+-----------+-----------+-------------+\n",
      "|summary|                Id| Name|Surname|         Division|            Manager|            Gender| Sexual_Orientation|              LGBTQ|         Indigenous|         Ethnicity|         Disability|          Minority|            Veteran|Date of Birth|               Age|               Email|                Id|Preferred Name|Nationality|    Hobbies|   Pronouns|Mobile Number|\n",
      "+-------+------------------+-----+-------+-----------------+-------------------+------------------+-------------------+-------------------+-------------------+------------------+-------------------+------------------+-------------------+-------------+------------------+--------------------+------------------+--------------+-----------+-----------+-----------+-------------+\n",
      "|  count|              9976| 9976|   9976|             9976|               9976|              9976|               9976|               9976|               9976|              9976|               9976|              9976|               9976|         9976|              9976|                9976|              9976|          9976|       9976|       9976|       9976|         9976|\n",
      "|   mean| 5011.919907778669| null|   null|2.761327185244587|0.09833600641539696|0.5441058540497193|0.42812750601443467|0.24709302325581395|0.06595829991980753|0.5398957497995188|0.21120689655172414|0.2406776263031275|0.02876904570970329|         null|38.821862754948256|                null| 5011.919907778669|          null|       null|       null|       null|         null|\n",
      "| stddev|2880.9301927745028| null|   null|2.178655169750006| 0.2977833525960751|0.8538630145056417| 1.0218891259062053| 0.5617655392333332|0.27938339529972006| 1.064539929882278|0.47239453679369925|0.4503558068978742| 0.2176988985139031|         null|10.132293654608038|                null|2880.9301927745028|          null|       null|       null|       null|         null|\n",
      "|    min|                 1|Abbey|  Abbey|                0|                  0|                 0|                  0|                  0|                  0|                 0|                  0|                 0|                  0|    1/01/1957|              24.0|Abbey.Collis@mail.ca|                 1|         Abbey|     Afghan|    Cooking|  E/em/eirs| 100 215 4543|\n",
      "|    max|             10000|  Zoe|  Zaoui|                6|                  1|                 5|                  4|                  2|                  2|                 5|                  2|                 2|                  2|    9/12/1997|              65.0|  Zoe.Walker@mail.ca|             10000|           Zoe| Zimbabwean|Video Games|Ze/zir/zirs| 999 981 3927|\n",
      "+-------+------------------+-----+-------+-----------------+-------------------+------------------+-------------------+-------------------+-------------------+------------------+-------------------+------------------+-------------------+-------------+------------------+--------------------+------------------+--------------+-----------+-----------+-----------+-------------+\n",
      "\n"
     ]
    },
    {
     "name": "stderr",
     "output_type": "stream",
     "text": [
      "\r",
      "                                                                                \r"
     ]
    }
   ],
   "source": [
    "df_1.describe().show()"
   ]
  },
  {
   "cell_type": "code",
   "execution_count": 35,
   "id": "69a75098",
   "metadata": {},
   "outputs": [
    {
     "name": "stdout",
     "output_type": "stream",
     "text": [
      "Remaining nulls in Date of Birth after cleaning: 0\n",
      "Remaining nulls in Adjusted Age after handling: 0\n"
     ]
    }
   ],
   "source": [
    "null_dob_after = df_1.filter(df_1[\"Date of Birth\"].isNull()).count()\n",
    "null_age_after = df_1.filter(df_1.Age.isNull()).count()\n",
    "\n",
    "print(f\"Remaining nulls in Date of Birth after cleaning: {null_dob_after}\")\n",
    "print(f\"Remaining nulls in Adjusted Age after handling: {null_age_after}\")\n"
   ]
  },
  {
   "cell_type": "markdown",
   "id": "b242aac2",
   "metadata": {},
   "source": [
    "# Data construction"
   ]
  },
  {
   "cell_type": "code",
   "execution_count": 36,
   "id": "8c9de5a7",
   "metadata": {},
   "outputs": [],
   "source": [
    "from pyspark.sql.functions import when\n",
    "\n",
    "df_1 = df_1.withColumn(\"Manager_New\", when(df_1[\"Manager\"] == 1, \"Yes\").otherwise(\"No\"))"
   ]
  },
  {
   "cell_type": "code",
   "execution_count": 37,
   "id": "71d50582",
   "metadata": {},
   "outputs": [
    {
     "name": "stdout",
     "output_type": "stream",
     "text": [
      "+---+---------+---------+--------+-------+------+------------------+-----+----------+---------+----------+--------+-------+-------------+------------------+--------------------+---+--------------+-----------+-----------+----------------+-------------+-----------+\n",
      "| Id|     Name|  Surname|Division|Manager|Gender|Sexual_Orientation|LGBTQ|Indigenous|Ethnicity|Disability|Minority|Veteran|Date of Birth|               Age|               Email| Id|Preferred Name|Nationality|    Hobbies|        Pronouns|Mobile Number|Manager_New|\n",
      "+---+---------+---------+--------+-------+------+------------------+-----+----------+---------+----------+--------+-------+-------------+------------------+--------------------+---+--------------+-----------+-----------+----------------+-------------+-----------+\n",
      "|  1|  Deborah|  Addison|       0|      0|     3|                 0|    2|         0|        0|         1|       0|      0|    4/06/1993|38.821862754948256|Deborah.Addison@m...|  1|       Deborah|     Polish| Travelling|They/them/theirs| 363 436 1096|         No|\n",
      "|  2|     Mona|     Hill|       1|      0|     0|                 0|    0|         1|        0|         0|       1|      0|    2/08/1963|38.821862754948256|   Mona.Hill@mail.ca|  2|          Mona|        Lao|    Reading|      He/him/his| 905 980 9989|         No|\n",
      "|  3| Kimberly|  Shelton|       2|      0|     1|                 0|    0|         0|        0|         0|       0|      0|   25/04/1979|38.821862754948256|Kimberly.Shelton@...|  3|      Kimberly|   Canadian|     Sports|    She/her/hers| 788 356 1577|         No|\n",
      "|  4|    Denis| Robinson|       3|      0|     0|                 0|    0|         0|        0|         1|       1|      0|   11/02/1978|              44.0|Denis.Robinson@ma...|  4|         Denis|   Canadian|     Sports|      He/him/his| 946 855 5822|         No|\n",
      "|  5|   Carmen|     Gunn|       4|      0|     0|                 0|    0|         0|        1|         0|       0|      0|   11/03/1972|              50.0| Carmen.Gunn@mail.ca|  5|        Carmen|     Korean|    Cooking|      He/him/his| 537 895 4532|         No|\n",
      "|  6|   Nathan|  Furnell|       5|      0|     0|                 0|    0|         0|        2|         0|       0|      0|   11/01/1985|              37.0|Nathan.Furnell@ma...|  6|        Nathan|   Canadian|      Music|      He/him/his| 317 280 1655|         No|\n",
      "|  7|     Luke| Sinclair|       1|      0|     0|                 3|    1|         0|        0|         0|       1|      0|    4/09/1988|              34.0|Luke.Sinclair@mai...|  7|          Luke|    English|      Music|      He/him/his| 500 192 9313|         No|\n",
      "|  8|     Fred|   Callan|       5|      0|     0|                 0|    0|         0|        0|         0|       1|      0|    9/11/1994|              27.0| Fred.Callan@mail.ca|  8|          Fred|  Norwegian|     Sports|      He/him/his| 531 698 4421|         No|\n",
      "| 10|    Harry|   Dobson|       5|      0|     0|                 0|    0|         0|        2|         0|       0|      0|   28/02/1975|              47.0|Harry.Dobson@mail.ca| 10|         Harry|     Indian|   Crafting|      He/him/his| 648 541 9503|         No|\n",
      "| 11|    Ramon|   Mccall|       5|      0|     0|                 0|    0|         0|        0|         0|       0|      0|   27/03/1968|              54.0|Ramon.Mccall@mail.ca| 11|         Ramon|     Indian| Travelling|      He/him/his| 502 332 1292|         No|\n",
      "| 12|     Fred|   Wilton|       4|      0|     1|                 0|    2|         0|        3|         0|       0|      0|    1/01/1987|              35.0| Fred.Wilton@mail.ca| 12|          Fred|     Indian| Travelling|    She/her/hers| 773 530 6142|         No|\n",
      "| 13|     Nick|    Sloan|       6|      0|     2|                 0|    0|         0|        2|         0|       0|      0|   11/01/1968|              54.0|  Nick.Sloan@mail.ca| 13|          Nick|  Jordanian|Video Games|     Ze/hir/hirs| 568 569 7849|         No|\n",
      "| 14|Kassandra|  Jarrett|       6|      0|     0|                 0|    0|         0|        3|         0|       0|      0|   13/02/1990|              32.0|Kassandra.Jarrett...| 14|     Kassandra| Sri Lankan| Travelling|      He/him/his| 790 679 8854|         No|\n",
      "| 15|   Russel|   Larsen|       5|      0|     0|                 0|    0|         0|        0|         0|       0|      0|   11/01/1993|              29.0|Russel.Larsen@mai...| 15|        Russel|   Canadian|     Sports|      He/him/his| 368 391 2838|         No|\n",
      "| 16|     Rhea|   Latham|       0|      0|     0|                 0|    0|         0|        3|         0|       0|      0|    6/08/1990|              32.0| Rhea.Latham@mail.ca| 16|          Rhea|    British|    Cooking|      He/him/his| 869 635 9373|         No|\n",
      "| 17|  Liliana|     Todd|       3|      0|     0|                 0|    0|         0|        0|         0|       0|      0|   17/02/1983|              39.0|Liliana.Todd@mail.ca| 17|       Liliana|   Canadian|     Sports|      He/him/his| 431 833 4660|         No|\n",
      "| 18|     Brad|  Windsor|       6|      0|     0|                 0|    0|         0|        0|         0|       0|      0|   14/10/1988|              33.0|Brad.Windsor@mail.ca| 18|          Brad|   Canadian|     Sports|      He/him/his| 593 241 3231|         No|\n",
      "| 20|   Carina|Robertson|       3|      0|     2|                 3|    1|         1|        0|         0|       1|      0|   19/10/1987|              34.0|Carina.Robertson@...| 20|        Carina|  Brazilian| Travelling|They/them/theirs| 692 380 3747|         No|\n",
      "| 21|    Henry|Ainsworth|       6|      0|     0|                 0|    0|         0|        0|         0|       0|      0|   12/05/1993|              29.0|Henry.Ainsworth@m...| 21|         Henry|   American|      Music|      He/him/his| 214 787 9989|         No|\n",
      "| 22|  Chester|   Carson|       0|      0|     0|                 0|    0|         1|        0|         0|       0|      0|   30/01/1982|              40.0|Chester.Carson@ma...| 22|       Chester|   Canadian|   Crafting|      He/him/his| 493 511 7039|         No|\n",
      "+---+---------+---------+--------+-------+------+------------------+-----+----------+---------+----------+--------+-------+-------------+------------------+--------------------+---+--------------+-----------+-----------+----------------+-------------+-----------+\n",
      "only showing top 20 rows\n",
      "\n"
     ]
    }
   ],
   "source": [
    "df_1.show()"
   ]
  },
  {
   "cell_type": "markdown",
   "id": "1648c5f6",
   "metadata": {},
   "source": [
    "# Reformatting dataframe"
   ]
  },
  {
   "cell_type": "code",
   "execution_count": 38,
   "id": "4a2516d3",
   "metadata": {},
   "outputs": [],
   "source": [
    "df_New = df_1.drop('Id','Name','Surname','Date of Birth','Preferred Name','Hobbies','Mobile Number','Email','Nationality','Pronouns')"
   ]
  },
  {
   "cell_type": "code",
   "execution_count": 39,
   "id": "0f7c612d",
   "metadata": {},
   "outputs": [
    {
     "name": "stdout",
     "output_type": "stream",
     "text": [
      "+--------+-------+------+------------------+-----+----------+---------+----------+--------+-------+------------------+-----------+\n",
      "|Division|Manager|Gender|Sexual_Orientation|LGBTQ|Indigenous|Ethnicity|Disability|Minority|Veteran|               Age|Manager_New|\n",
      "+--------+-------+------+------------------+-----+----------+---------+----------+--------+-------+------------------+-----------+\n",
      "|       0|      0|     3|                 0|    2|         0|        0|         1|       0|      0|38.821862754948256|         No|\n",
      "|       1|      0|     0|                 0|    0|         1|        0|         0|       1|      0|38.821862754948256|         No|\n",
      "|       2|      0|     1|                 0|    0|         0|        0|         0|       0|      0|38.821862754948256|         No|\n",
      "|       3|      0|     0|                 0|    0|         0|        0|         1|       1|      0|              44.0|         No|\n",
      "|       4|      0|     0|                 0|    0|         0|        1|         0|       0|      0|              50.0|         No|\n",
      "|       5|      0|     0|                 0|    0|         0|        2|         0|       0|      0|              37.0|         No|\n",
      "|       1|      0|     0|                 3|    1|         0|        0|         0|       1|      0|              34.0|         No|\n",
      "|       5|      0|     0|                 0|    0|         0|        0|         0|       1|      0|              27.0|         No|\n",
      "|       5|      0|     0|                 0|    0|         0|        2|         0|       0|      0|              47.0|         No|\n",
      "|       5|      0|     0|                 0|    0|         0|        0|         0|       0|      0|              54.0|         No|\n",
      "|       4|      0|     1|                 0|    2|         0|        3|         0|       0|      0|              35.0|         No|\n",
      "|       6|      0|     2|                 0|    0|         0|        2|         0|       0|      0|              54.0|         No|\n",
      "|       6|      0|     0|                 0|    0|         0|        3|         0|       0|      0|              32.0|         No|\n",
      "|       5|      0|     0|                 0|    0|         0|        0|         0|       0|      0|              29.0|         No|\n",
      "|       0|      0|     0|                 0|    0|         0|        3|         0|       0|      0|              32.0|         No|\n",
      "|       3|      0|     0|                 0|    0|         0|        0|         0|       0|      0|              39.0|         No|\n",
      "|       6|      0|     0|                 0|    0|         0|        0|         0|       0|      0|              33.0|         No|\n",
      "|       3|      0|     2|                 3|    1|         1|        0|         0|       1|      0|              34.0|         No|\n",
      "|       6|      0|     0|                 0|    0|         0|        0|         0|       0|      0|              29.0|         No|\n",
      "|       0|      0|     0|                 0|    0|         1|        0|         0|       0|      0|              40.0|         No|\n",
      "+--------+-------+------+------------------+-----+----------+---------+----------+--------+-------+------------------+-----------+\n",
      "only showing top 20 rows\n",
      "\n"
     ]
    }
   ],
   "source": [
    "df_New.show() "
   ]
  },
  {
   "cell_type": "code",
   "execution_count": 40,
   "id": "1f442117",
   "metadata": {},
   "outputs": [],
   "source": [
    "from pyspark.sql.functions import col\n",
    "# Assuming df_1 is your PySpark DataFrame\n",
    "df_New = df_New.withColumn(\"Age\", col(\"Age\").cast(\"integer\"))"
   ]
  },
  {
   "cell_type": "code",
   "execution_count": 41,
   "id": "5184bbf7",
   "metadata": {},
   "outputs": [
    {
     "name": "stdout",
     "output_type": "stream",
     "text": [
      "+--------+-------+------+------------------+-----+----------+---------+----------+--------+-------+---+-----------+\n",
      "|Division|Manager|Gender|Sexual_Orientation|LGBTQ|Indigenous|Ethnicity|Disability|Minority|Veteran|Age|Manager_New|\n",
      "+--------+-------+------+------------------+-----+----------+---------+----------+--------+-------+---+-----------+\n",
      "|       0|      0|     3|                 0|    2|         0|        0|         1|       0|      0| 38|         No|\n",
      "|       1|      0|     0|                 0|    0|         1|        0|         0|       1|      0| 38|         No|\n",
      "|       2|      0|     1|                 0|    0|         0|        0|         0|       0|      0| 38|         No|\n",
      "|       3|      0|     0|                 0|    0|         0|        0|         1|       1|      0| 44|         No|\n",
      "|       4|      0|     0|                 0|    0|         0|        1|         0|       0|      0| 50|         No|\n",
      "|       5|      0|     0|                 0|    0|         0|        2|         0|       0|      0| 37|         No|\n",
      "|       1|      0|     0|                 3|    1|         0|        0|         0|       1|      0| 34|         No|\n",
      "|       5|      0|     0|                 0|    0|         0|        0|         0|       1|      0| 27|         No|\n",
      "|       5|      0|     0|                 0|    0|         0|        2|         0|       0|      0| 47|         No|\n",
      "|       5|      0|     0|                 0|    0|         0|        0|         0|       0|      0| 54|         No|\n",
      "|       4|      0|     1|                 0|    2|         0|        3|         0|       0|      0| 35|         No|\n",
      "|       6|      0|     2|                 0|    0|         0|        2|         0|       0|      0| 54|         No|\n",
      "|       6|      0|     0|                 0|    0|         0|        3|         0|       0|      0| 32|         No|\n",
      "|       5|      0|     0|                 0|    0|         0|        0|         0|       0|      0| 29|         No|\n",
      "|       0|      0|     0|                 0|    0|         0|        3|         0|       0|      0| 32|         No|\n",
      "|       3|      0|     0|                 0|    0|         0|        0|         0|       0|      0| 39|         No|\n",
      "|       6|      0|     0|                 0|    0|         0|        0|         0|       0|      0| 33|         No|\n",
      "|       3|      0|     2|                 3|    1|         1|        0|         0|       1|      0| 34|         No|\n",
      "|       6|      0|     0|                 0|    0|         0|        0|         0|       0|      0| 29|         No|\n",
      "|       0|      0|     0|                 0|    0|         1|        0|         0|       0|      0| 40|         No|\n",
      "+--------+-------+------+------------------+-----+----------+---------+----------+--------+-------+---+-----------+\n",
      "only showing top 20 rows\n",
      "\n"
     ]
    }
   ],
   "source": [
    "df_New.show() "
   ]
  },
  {
   "cell_type": "markdown",
   "id": "c0229c24",
   "metadata": {},
   "source": [
    "# Sampling"
   ]
  },
  {
   "cell_type": "code",
   "execution_count": 42,
   "id": "6e44cfa4",
   "metadata": {},
   "outputs": [],
   "source": [
    "from pyspark.ml.feature import VectorAssembler\n",
    "from pyspark.ml.evaluation import BinaryClassificationEvaluator\n",
    "\n",
    "df_New = df_New.drop('Manager_New')"
   ]
  },
  {
   "cell_type": "code",
   "execution_count": 43,
   "id": "780ca55c",
   "metadata": {},
   "outputs": [],
   "source": [
    "from pyspark.sql.functions import col\n",
    "df_No = df_New.filter(col('Manager') == 0)\n",
    "df_Yes = df_New.filter(col('Manager') == 1)"
   ]
  },
  {
   "cell_type": "code",
   "execution_count": 44,
   "id": "9667a04b",
   "metadata": {},
   "outputs": [],
   "source": [
    "count_df_No = df_No.count()\n",
    "count_df_Yes = df_Yes.count()"
   ]
  },
  {
   "cell_type": "code",
   "execution_count": 45,
   "id": "f56d9dcc",
   "metadata": {},
   "outputs": [],
   "source": [
    "if count_df_No > count_df_Yes:\n",
    "    df_Yes_boosted = df_Yes.sample(withReplacement=True, fraction=count_df_No / count_df_Yes)\n",
    "else:\n",
    "    df_No_boosted = df_No.sample(withReplacement=True, fraction=count_df_Yes / count_df_No)"
   ]
  },
  {
   "cell_type": "code",
   "execution_count": 46,
   "id": "01df680d",
   "metadata": {},
   "outputs": [],
   "source": [
    "df_boosted = df_No.unionAll(df_Yes_boosted)"
   ]
  },
  {
   "cell_type": "code",
   "execution_count": 47,
   "id": "fa6cdb31",
   "metadata": {},
   "outputs": [],
   "source": [
    "import pandas as pd\n",
    "import matplotlib.pyplot as plt\n",
    "\n",
    "manager_distribution = df_boosted.groupBy('Manager').count()"
   ]
  },
  {
   "cell_type": "code",
   "execution_count": 48,
   "id": "a13acffc",
   "metadata": {},
   "outputs": [],
   "source": [
    "manager_distribution_pd = manager_distribution.toPandas()"
   ]
  },
  {
   "cell_type": "code",
   "execution_count": 49,
   "id": "31bcc273",
   "metadata": {},
   "outputs": [
    {
     "data": {
      "image/png": "[encoded data removed]",
      "text/plain": [
       "<Figure size 432x288 with 1 Axes>"
      ]
     },
     "metadata": {
      "needs_background": "light"
     },
     "output_type": "display_data"
    }
   ],
   "source": [
    "plt.bar(manager_distribution_pd['Manager'].astype(str), manager_distribution_pd['count'], color='blue')\n",
    "plt.show()"
   ]
  },
  {
   "cell_type": "code",
   "execution_count": 50,
   "id": "cac19809",
   "metadata": {},
   "outputs": [],
   "source": [
    "input_features = [col for col in df_boosted.columns if col != 'Manager']\n",
    "assembler = VectorAssembler(inputCols=input_features, outputCol=\"features\")\n",
    "df_assembled = assembler.transform(df_boosted)"
   ]
  },
  {
   "cell_type": "code",
   "execution_count": 77,
   "id": "c2c87080",
   "metadata": {},
   "outputs": [],
   "source": [
    "# Split data\n",
    "train_df, test_df = df_assembled.randomSplit([0.8, 0.2], seed=42)"
   ]
  },
  {
   "cell_type": "markdown",
   "id": "ce1fb94d",
   "metadata": {},
   "source": [
    "# Tree method"
   ]
  },
  {
   "cell_type": "code",
   "execution_count": 78,
   "id": "a0d85cca",
   "metadata": {},
   "outputs": [],
   "source": [
    "from pyspark.ml.classification import DecisionTreeClassifier,GBTClassifier,RandomForestClassifier\n",
    "from pyspark.ml import Pipeline"
   ]
  },
  {
   "cell_type": "code",
   "execution_count": 79,
   "id": "2abd9683",
   "metadata": {},
   "outputs": [],
   "source": [
    "dtc = DecisionTreeClassifier(labelCol='Manager',featuresCol='features')\n",
    "gbt = GBTClassifier(labelCol='Manager',featuresCol='features')\n",
    "rfc = RandomForestClassifier(featuresCol='features', labelCol='Manager')"
   ]
  },
  {
   "cell_type": "code",
   "execution_count": 80,
   "id": "9043e4e8",
   "metadata": {},
   "outputs": [],
   "source": [
    "dtc_model = dtc.fit(train_df)\n",
    "rfc_model = rfc.fit(train_df)\n",
    "gbt_model = gbt.fit(train_df)"
   ]
  },
  {
   "cell_type": "markdown",
   "id": "55636f19",
   "metadata": {},
   "source": [
    "# Model comparison"
   ]
  },
  {
   "cell_type": "code",
   "execution_count": 81,
   "id": "68ebbf77",
   "metadata": {},
   "outputs": [],
   "source": [
    "dtc_predictions = dtc_model.transform(test_df)\n",
    "rfc_predictions = rfc_model.transform(test_df)\n",
    "gbt_predictions = gbt_model.transform(test_df)"
   ]
  },
  {
   "cell_type": "code",
   "execution_count": 82,
   "id": "3f68c278",
   "metadata": {},
   "outputs": [],
   "source": [
    "df_binary = BinaryClassificationEvaluator(labelCol = 'Manager')\n"
   ]
  },
  {
   "cell_type": "code",
   "execution_count": 83,
   "id": "65007c27",
   "metadata": {},
   "outputs": [
    {
     "name": "stdout",
     "output_type": "stream",
     "text": [
      "DTC\n",
      "0.5151189419867326\n"
     ]
    }
   ],
   "source": [
    "print(\"DTC\")\n",
    "print(df_binary.evaluate(dtc_predictions))"
   ]
  },
  {
   "cell_type": "code",
   "execution_count": 69,
   "id": "bc95732c",
   "metadata": {},
   "outputs": [
    {
     "name": "stdout",
     "output_type": "stream",
     "text": [
      "RFC\n",
      "0.6036136392445186\n"
     ]
    }
   ],
   "source": [
    "print(\"RFC\")\n",
    "print(df_binary.evaluate(rfc_predictions))"
   ]
  },
  {
   "cell_type": "code",
   "execution_count": 70,
   "id": "0ffabea0",
   "metadata": {},
   "outputs": [
    {
     "name": "stdout",
     "output_type": "stream",
     "text": [
      "GBT\n",
      "0.6098584526978493\n"
     ]
    }
   ],
   "source": [
    "df_gbt = BinaryClassificationEvaluator(labelCol='Manager', rawPredictionCol='prediction')\n",
    "print(\"GBT\")\n",
    "print(df_gbt.evaluate(gbt_predictions))"
   ]
  },
  {
   "cell_type": "code",
   "execution_count": 71,
   "id": "f9a1b19c",
   "metadata": {},
   "outputs": [],
   "source": [
    "# Let's import the evaluator.\n",
    "from pyspark.ml.evaluation import MulticlassClassificationEvaluator"
   ]
  },
  {
   "cell_type": "code",
   "execution_count": 72,
   "id": "49a20774",
   "metadata": {},
   "outputs": [],
   "source": [
    "acc_evaluator = MulticlassClassificationEvaluator(labelCol=\"Manager\", predictionCol=\"prediction\", metricName=\"accuracy\")"
   ]
  },
  {
   "cell_type": "code",
   "execution_count": 73,
   "id": "0fb55915",
   "metadata": {},
   "outputs": [],
   "source": [
    "dtc_acc = acc_evaluator.evaluate(dtc_predictions)\n",
    "rfc_acc = acc_evaluator.evaluate(rfc_predictions)\n",
    "gbt_acc = acc_evaluator.evaluate(gbt_predictions)"
   ]
  },
  {
   "cell_type": "code",
   "execution_count": 74,
   "id": "c219158a",
   "metadata": {
    "scrolled": false
   },
   "outputs": [
    {
     "name": "stdout",
     "output_type": "stream",
     "text": [
      "Here are the results!\n",
      "----------------------------------------\n",
      "A single decision tree has an accuracy of: 52.99%\n",
      "----------------------------------------\n",
      "A random forest ensemble has an accuracy of: 55.55%\n",
      "----------------------------------------\n",
      "An ensemble using GBT has an accuracy of: 60.99%\n"
     ]
    }
   ],
   "source": [
    "print(\"Here are the results!\")\n",
    "print('-'*40)\n",
    "print('A single decision tree has an accuracy of: {0:2.2f}%'.format(dtc_acc*100))\n",
    "print('-'*40)\n",
    "print('A random forest ensemble has an accuracy of: {0:2.2f}%'.format(rfc_acc*100))\n",
    "print('-'*40)\n",
    "print('An ensemble using GBT has an accuracy of: {0:2.2f}%'.format(gbt_acc*100))"
   ]
  },
  {
   "cell_type": "markdown",
   "id": "4b85dfc5",
   "metadata": {},
   "source": [
    "# Importances"
   ]
  },
  {
   "cell_type": "code",
   "execution_count": 75,
   "id": "658a205b",
   "metadata": {},
   "outputs": [
    {
     "name": "stdout",
     "output_type": "stream",
     "text": [
      "Feature Importances:\n",
      "Importance of Division: 0.23140745873343593\n",
      "Importance of Gender: 0.17815530086989587\n",
      "Importance of Sexual_Orientation: 0.05453542935121925\n",
      "Importance of LGBTQ: 0.040518026895368084\n",
      "Importance of Indigenous: 0.04696274778739502\n",
      "Importance of Ethnicity: 0.09091451600880271\n",
      "Importance of Disability: 0.04809235491612831\n",
      "Importance of Minority: 0.06307631485995827\n",
      "Importance of Veteran: 0.03834698213851352\n",
      "Importance of Age: 0.20799086843928294\n"
     ]
    }
   ],
   "source": [
    "importances_gbt = gbt_model.featureImportances\n",
    "print(\"Feature Importances:\")\n",
    "for i, col in enumerate(input_features):\n",
    "    print(f\"Importance of {col}: {importances_gbt[i]}\")"
   ]
  },
  {
   "cell_type": "code",
   "execution_count": 76,
   "id": "fd992a31",
   "metadata": {},
   "outputs": [
    {
     "name": "stdout",
     "output_type": "stream",
     "text": [
      "Feature Importances:\n",
      "Importance of Division: 0.1602924300735034\n",
      "Importance of Gender: 0.13011606004259965\n",
      "Importance of Sexual_Orientation: 0.12096117263979381\n",
      "Importance of LGBTQ: 0.0352223011413715\n",
      "Importance of Indigenous: 0.020545257508945484\n",
      "Importance of Ethnicity: 0.07635344041770589\n",
      "Importance of Disability: 0.0594161071803009\n",
      "Importance of Minority: 0.0905125664969008\n",
      "Importance of Veteran: 0.02590031139328459\n",
      "Importance of Age: 0.280680353105594\n"
     ]
    }
   ],
   "source": [
    "importances_rfc = rfc_model.featureImportances\n",
    "print(\"Feature Importances:\")\n",
    "for i, col in enumerate(input_features):\n",
    "    print(f\"Importance of {col}: {importances_rfc[i]}\")"
   ]
  },
  {
   "cell_type": "markdown",
   "id": "6cbe451d",
   "metadata": {},
   "source": [
    "# Drop unimportant data"
   ]
  },
  {
   "cell_type": "code",
   "execution_count": 84,
   "id": "561fe0a3",
   "metadata": {},
   "outputs": [],
   "source": [
    "df_boost_new = df_boosted.drop('Sexual_Orientation','LGBTQ','Indigenous','Disability','Veteran')"
   ]
  },
  {
   "cell_type": "code",
   "execution_count": 85,
   "id": "ec885b93",
   "metadata": {},
   "outputs": [],
   "source": [
    "input_features = [col for col in df_boost_new.columns if col != 'Manager']\n",
    "assembler = VectorAssembler(inputCols=input_features, outputCol=\"features\")\n",
    "df_assembled_new = assembler.transform(df_boost_new)"
   ]
  },
  {
   "cell_type": "code",
   "execution_count": 86,
   "id": "cec97206",
   "metadata": {},
   "outputs": [],
   "source": [
    "train_df_new, test_df_new = df_assembled_new.randomSplit([0.8, 0.2], seed=42)"
   ]
  },
  {
   "cell_type": "code",
   "execution_count": 87,
   "id": "b1127aa1",
   "metadata": {},
   "outputs": [],
   "source": [
    "dtc_n = DecisionTreeClassifier(labelCol='Manager',featuresCol='features')\n",
    "gbt_n = GBTClassifier(labelCol='Manager',featuresCol='features')\n",
    "rfc_n = RandomForestClassifier(featuresCol='features', labelCol='Manager')"
   ]
  },
  {
   "cell_type": "code",
   "execution_count": 88,
   "id": "ae5b1dde",
   "metadata": {},
   "outputs": [],
   "source": [
    "dtc_model = dtc.fit(train_df_new)\n",
    "rfc_model = rfc.fit(train_df_new)\n",
    "gbt_model = gbt.fit(train_df_new)"
   ]
  },
  {
   "cell_type": "code",
   "execution_count": 89,
   "id": "23c8f95c",
   "metadata": {},
   "outputs": [],
   "source": [
    "dtc_predictions = dtc_model.transform(test_df_new)\n",
    "rfc_predictions = rfc_model.transform(test_df_new)\n",
    "gbt_predictions = gbt_model.transform(test_df_new)"
   ]
  },
  {
   "cell_type": "code",
   "execution_count": 90,
   "id": "5b6070a4",
   "metadata": {},
   "outputs": [],
   "source": [
    "df_binary = BinaryClassificationEvaluator(labelCol = 'Manager')"
   ]
  },
  {
   "cell_type": "code",
   "execution_count": 91,
   "id": "4569e757",
   "metadata": {},
   "outputs": [
    {
     "name": "stdout",
     "output_type": "stream",
     "text": [
      "DTC\n",
      "0.5141271813073055\n"
     ]
    }
   ],
   "source": [
    "print(\"DTC\")\n",
    "print(df_binary.evaluate(dtc_predictions))"
   ]
  },
  {
   "cell_type": "code",
   "execution_count": 92,
   "id": "a1431589",
   "metadata": {},
   "outputs": [
    {
     "name": "stdout",
     "output_type": "stream",
     "text": [
      "RFC\n",
      "0.6242146448641566\n"
     ]
    }
   ],
   "source": [
    "print(\"RFC\")\n",
    "print(df_binary.evaluate(rfc_predictions))"
   ]
  },
  {
   "cell_type": "code",
   "execution_count": 93,
   "id": "3df2c377",
   "metadata": {},
   "outputs": [
    {
     "name": "stdout",
     "output_type": "stream",
     "text": [
      "GBT\n",
      "0.6282308699877466\n"
     ]
    }
   ],
   "source": [
    "df_gbt = BinaryClassificationEvaluator(labelCol='Manager', rawPredictionCol='prediction')\n",
    "print(\"GBT\")\n",
    "print(df_gbt.evaluate(gbt_predictions))"
   ]
  },
  {
   "cell_type": "code",
   "execution_count": 94,
   "id": "3a2b6181",
   "metadata": {},
   "outputs": [],
   "source": [
    "acc_evaluator = MulticlassClassificationEvaluator(labelCol=\"Manager\", predictionCol=\"prediction\", metricName=\"accuracy\")"
   ]
  },
  {
   "cell_type": "code",
   "execution_count": 95,
   "id": "88e6f276",
   "metadata": {},
   "outputs": [],
   "source": [
    "dtc_acc = acc_evaluator.evaluate(dtc_predictions)\n",
    "rfc_acc = acc_evaluator.evaluate(rfc_predictions)\n",
    "gbt_acc = acc_evaluator.evaluate(gbt_predictions)"
   ]
  },
  {
   "cell_type": "code",
   "execution_count": 96,
   "id": "8070f1af",
   "metadata": {},
   "outputs": [
    {
     "name": "stdout",
     "output_type": "stream",
     "text": [
      "Here are the results!\n",
      "----------------------------------------\n",
      "A single decision tree has an accuracy of: 55.73%\n",
      "----------------------------------------\n",
      "A random forest ensemble has an accuracy of: 57.79%\n",
      "----------------------------------------\n",
      "An ensemble using GBT has an accuracy of: 62.82%\n"
     ]
    }
   ],
   "source": [
    "print(\"Here are the results!\")\n",
    "print('-'*40)\n",
    "print('A single decision tree has an accuracy of: {0:2.2f}%'.format(dtc_acc*100))\n",
    "print('-'*40)\n",
    "print('A random forest ensemble has an accuracy of: {0:2.2f}%'.format(rfc_acc*100))\n",
    "print('-'*40)\n",
    "print('An ensemble using GBT has an accuracy of: {0:2.2f}%'.format(gbt_acc*100))"
   ]
  },
  {
   "cell_type": "code",
   "execution_count": 99,
   "id": "3d4fe416",
   "metadata": {},
   "outputs": [
    {
     "name": "stdout",
     "output_type": "stream",
     "text": [
      "Feature Importances:\n",
      "Importance of Division: 0.2243020441302857\n",
      "Importance of Gender: 0.14985686511580254\n",
      "Importance of Ethnicity: 0.16571428228168283\n",
      "Importance of Minority: 0.09997603722126613\n",
      "Importance of Age: 0.36015077125096273\n"
     ]
    }
   ],
   "source": [
    "importances_gbt = gbt_model.featureImportances\n",
    "print(\"Feature Importances:\")\n",
    "for i, col in enumerate(input_features):\n",
    "    print(f\"Importance of {col}: {importances_gbt[i]}\")"
   ]
  },
  {
   "cell_type": "code",
   "execution_count": 100,
   "id": "30c1a591",
   "metadata": {},
   "outputs": [
    {
     "name": "stdout",
     "output_type": "stream",
     "text": [
      "Feature Importances:\n",
      "Importance of Division: 0.21023155497687948\n",
      "Importance of Gender: 0.16379846690263544\n",
      "Importance of Ethnicity: 0.11548038461431172\n",
      "Importance of Minority: 0.1263543647155488\n",
      "Importance of Age: 0.38413522879062445\n"
     ]
    }
   ],
   "source": [
    "importances_rfc = rfc_model.featureImportances\n",
    "print(\"Feature Importances:\")\n",
    "for i, col in enumerate(input_features):\n",
    "    print(f\"Importance of {col}: {importances_rfc[i]}\")"
   ]
  },
  {
   "cell_type": "markdown",
   "id": "f0e71ea9",
   "metadata": {},
   "source": [
    "# plot "
   ]
  },
  {
   "cell_type": "code",
   "execution_count": 175,
   "id": "80a685ad",
   "metadata": {},
   "outputs": [],
   "source": [
    "import seaborn as sns"
   ]
  },
  {
   "cell_type": "code",
   "execution_count": 183,
   "id": "8b021f14",
   "metadata": {},
   "outputs": [
    {
     "data": {
      "image/png": "[encoded data removed]",
      "text/plain": [
       "<Figure size 720x432 with 1 Axes>"
      ]
     },
     "metadata": {},
     "output_type": "display_data"
    }
   ],
   "source": [
    "division_manager_count = df_boost_new.groupBy(\"Division\", \"Manager\").count()\n",
    "division_manager_pd = division_manager_count.toPandas()\n",
    "pivot_df = division_manager_pd.pivot(index='Division', columns='Manager', values='count').fillna(0)\n",
    "\n",
    "# Plotting\n",
    "fig, ax = plt.subplots(figsize=(10, 6))\n",
    "pivot_df.plot(kind='bar', ax=ax, color=['skyblue', 'orange'])\n",
    "ax.set_title('Manager Distribution by Division')\n",
    "ax.set_xlabel('Division')\n",
    "ax.set_ylabel('Count')\n",
    "ax.legend(title='Manager Status', labels=['Non-Manager', 'Manager'])\n",
    "plt.xticks(rotation=0)  # Rotate division labels for better readability\n",
    "plt.show()"
   ]
  },
  {
   "cell_type": "code",
   "execution_count": 184,
   "id": "4abf1d75",
   "metadata": {},
   "outputs": [
    {
     "data": {
      "image/png": "[encoded data removed]",
      "text/plain": [
       "<Figure size 720x432 with 1 Axes>"
      ]
     },
     "metadata": {},
     "output_type": "display_data"
    }
   ],
   "source": [
    "Gender_manager_count = df_boost_new.groupBy(\"Gender\", \"Manager\").count()\n",
    "Gender_manager_pd = Gender_manager_count.toPandas()\n",
    "pivot_df = Gender_manager_pd.pivot(index='Gender', columns='Manager', values='count').fillna(0)\n",
    "\n",
    "# Plotting\n",
    "fig, ax = plt.subplots(figsize=(10, 6))\n",
    "pivot_df.plot(kind='bar', ax=ax, color=['skyblue', 'orange'])\n",
    "ax.set_title('Manager Distribution by Gender')\n",
    "ax.set_xlabel('Gender')\n",
    "ax.set_ylabel('Count')\n",
    "ax.legend(title='Manager Status', labels=['Non-Manager', 'Manager'])\n",
    "plt.xticks(rotation=0)  # Rotate division labels for better readability\n",
    "plt.show()"
   ]
  },
  {
   "cell_type": "code",
   "execution_count": 185,
   "id": "81693c6d",
   "metadata": {},
   "outputs": [
    {
     "data": {
      "image/png": "[encoded data removed]",
      "text/plain": [
       "<Figure size 720x432 with 1 Axes>"
      ]
     },
     "metadata": {},
     "output_type": "display_data"
    }
   ],
   "source": [
    "Ethnicity_manager_count = df_boost_new.groupBy(\"Ethnicity\", \"Manager\").count()\n",
    "Ethnicity_manager_pd = Ethnicity_manager_count.toPandas()\n",
    "pivot_df =Ethnicity_manager_pd.pivot(index='Ethnicity', columns='Manager', values='count').fillna(0)\n",
    "\n",
    "# Plotting\n",
    "fig, ax = plt.subplots(figsize=(10, 6))\n",
    "pivot_df.plot(kind='bar', ax=ax, color=['skyblue', 'orange'])\n",
    "ax.set_title('Manager Distribution by Ethnicity')\n",
    "ax.set_xlabel('Ethnicity')\n",
    "ax.set_ylabel('Count')\n",
    "ax.legend(title='Manager Status', labels=['Non-Manager', 'Manager'])\n",
    "plt.xticks(rotation=0)  # Rotate division labels for better readability\n",
    "plt.show()"
   ]
  },
  {
   "cell_type": "code",
   "execution_count": 186,
   "id": "0914e84d",
   "metadata": {},
   "outputs": [
    {
     "data": {
      "image/png": "[encoded data removed]",
      "text/plain": [
       "<Figure size 720x432 with 1 Axes>"
      ]
     },
     "metadata": {},
     "output_type": "display_data"
    }
   ],
   "source": [
    "Minority_manager_count = df_boost_new.groupBy(\"Minority\", \"Manager\").count()\n",
    "Minority_manager_pd = Minority_manager_count.toPandas()\n",
    "pivot_df =Minority_manager_pd.pivot(index='Minority', columns='Manager', values='count').fillna(0)\n",
    "\n",
    "# Plotting\n",
    "fig, ax = plt.subplots(figsize=(10, 6))\n",
    "pivot_df.plot(kind='bar', ax=ax, color=['skyblue', 'orange'])\n",
    "ax.set_title('Manager Distribution by Minority')\n",
    "ax.set_xlabel('Minority')\n",
    "ax.set_ylabel('Count')\n",
    "ax.legend(title='Manager Status', labels=['Non-Manager', 'Manager'])\n",
    "plt.xticks(rotation=0)  # Rotate division labels for better readability\n",
    "plt.show()"
   ]
  },
  {
   "cell_type": "markdown",
   "id": "0b0c9275",
   "metadata": {},
   "source": [
    "# Age distribution"
   ]
  },
  {
   "cell_type": "code",
   "execution_count": 29,
   "id": "97f476f6",
   "metadata": {},
   "outputs": [],
   "source": [
    "from pyspark.sql.functions import col, when"
   ]
  },
  {
   "cell_type": "code",
   "execution_count": 30,
   "id": "15c7c2ee",
   "metadata": {},
   "outputs": [
    {
     "name": "stdout",
     "output_type": "stream",
     "text": [
      "+--------+-------+------+------------------+-----+----------+---------+----------+--------+-------+------------------+-------+\n",
      "|Division|Manager|Gender|Sexual_Orientation|LGBTQ|Indigenous|Ethnicity|Disability|Minority|Veteran|               Age|Age_New|\n",
      "+--------+-------+------+------------------+-----+----------+---------+----------+--------+-------+------------------+-------+\n",
      "|       0|      0|     3|                 0|    2|         0|        0|         1|       0|      0|38.821862754948256|  30-40|\n",
      "|       1|      0|     0|                 0|    0|         1|        0|         0|       1|      0|38.821862754948256|  30-40|\n",
      "|       2|      0|     1|                 0|    0|         0|        0|         0|       0|      0|38.821862754948256|  30-40|\n",
      "|       3|      0|     0|                 0|    0|         0|        0|         1|       1|      0|              44.0|  40-50|\n",
      "|       4|      0|     0|                 0|    0|         0|        1|         0|       0|      0|              50.0|  50-60|\n",
      "|       5|      0|     0|                 0|    0|         0|        2|         0|       0|      0|              37.0|  30-40|\n",
      "|       1|      0|     0|                 3|    1|         0|        0|         0|       1|      0|              34.0|  30-40|\n",
      "|       5|      0|     0|                 0|    0|         0|        0|         0|       1|      0|              27.0|  20-30|\n",
      "|       5|      0|     0|                 0|    0|         0|        2|         0|       0|      0|              47.0|  40-50|\n",
      "|       5|      0|     0|                 0|    0|         0|        0|         0|       0|      0|              54.0|  50-60|\n",
      "|       4|      0|     1|                 0|    2|         0|        3|         0|       0|      0|              35.0|  30-40|\n",
      "|       6|      0|     2|                 0|    0|         0|        2|         0|       0|      0|              54.0|  50-60|\n",
      "|       6|      0|     0|                 0|    0|         0|        3|         0|       0|      0|              32.0|  30-40|\n",
      "|       5|      0|     0|                 0|    0|         0|        0|         0|       0|      0|              29.0|  20-30|\n",
      "|       0|      0|     0|                 0|    0|         0|        3|         0|       0|      0|              32.0|  30-40|\n",
      "|       3|      0|     0|                 0|    0|         0|        0|         0|       0|      0|              39.0|  30-40|\n",
      "|       6|      0|     0|                 0|    0|         0|        0|         0|       0|      0|              33.0|  30-40|\n",
      "|       3|      0|     2|                 3|    1|         1|        0|         0|       1|      0|              34.0|  30-40|\n",
      "|       6|      0|     0|                 0|    0|         0|        0|         0|       0|      0|              29.0|  20-30|\n",
      "|       0|      0|     0|                 0|    0|         1|        0|         0|       0|      0|              40.0|  40-50|\n",
      "+--------+-------+------+------------------+-----+----------+---------+----------+--------+-------+------------------+-------+\n",
      "only showing top 20 rows\n",
      "\n"
     ]
    }
   ],
   "source": [
    "df_Age = df_boosted.withColumn(\"Age_New\", \n",
    "                   when((col(\"Age\") >= 20) & (col(\"Age\") < 30), \"20-30\")\n",
    "                   .when((col(\"Age\") >= 30) & (col(\"Age\") < 40), \"30-40\")\n",
    "                   .when((col(\"Age\") >= 40) & (col(\"Age\") < 50), \"40-50\")\n",
    "                   .when((col(\"Age\") >= 50) & (col(\"Age\") < 60), \"50-60\")\n",
    "                   .when((col(\"Age\") >= 60) & (col(\"Age\") < 70), \"60-70\")\n",
    "                   .otherwise(\"Other\"))\n",
    "\n",
    "df_Age.show()"
   ]
  },
  {
   "cell_type": "code",
   "execution_count": 31,
   "id": "f2b0c016",
   "metadata": {},
   "outputs": [
    {
     "name": "stdout",
     "output_type": "stream",
     "text": [
      "root\n",
      " |-- Division: integer (nullable = true)\n",
      " |-- Manager: integer (nullable = true)\n",
      " |-- Gender: integer (nullable = true)\n",
      " |-- Sexual_Orientation: integer (nullable = true)\n",
      " |-- LGBTQ: integer (nullable = true)\n",
      " |-- Indigenous: integer (nullable = true)\n",
      " |-- Ethnicity: integer (nullable = true)\n",
      " |-- Disability: integer (nullable = true)\n",
      " |-- Minority: integer (nullable = true)\n",
      " |-- Veteran: integer (nullable = true)\n",
      " |-- Age: double (nullable = true)\n",
      " |-- Age_New: string (nullable = false)\n",
      "\n"
     ]
    }
   ],
   "source": [
    "df_Age.printSchema()"
   ]
  },
  {
   "cell_type": "code",
   "execution_count": 32,
   "id": "fe15aa6d",
   "metadata": {},
   "outputs": [
    {
     "name": "stdout",
     "output_type": "stream",
     "text": [
      "+-------+----+----+\n",
      "|Age_New|   0|   1|\n",
      "+-------+----+----+\n",
      "|  40-50|2340|2260|\n",
      "|  20-30|1789|1804|\n",
      "|  60-70| 504| 534|\n",
      "|  50-60| 891| 891|\n",
      "|  30-40|3471|3634|\n",
      "+-------+----+----+\n",
      "\n"
     ]
    }
   ],
   "source": [
    "age_manager_distribution = df_Age.groupBy(\"Age_New\").pivot(\"Manager\", [0, 1]).count()\n",
    "age_manager_distribution.show()"
   ]
  },
  {
   "cell_type": "code",
   "execution_count": 33,
   "id": "27b842ed",
   "metadata": {},
   "outputs": [],
   "source": [
    "age_manager_distribution_pd = age_manager_distribution.toPandas()"
   ]
  },
  {
   "cell_type": "code",
   "execution_count": 36,
   "id": "599c7581",
   "metadata": {},
   "outputs": [
    {
     "data": {
      "text/plain": [
       "<Figure size 720x432 with 0 Axes>"
      ]
     },
     "metadata": {},
     "output_type": "display_data"
    },
    {
     "data": {
      "image/png": "[encoded data removed]",
      "text/plain": [
       "<Figure size 432x288 with 1 Axes>"
      ]
     },
     "metadata": {
      "needs_background": "light"
     },
     "output_type": "display_data"
    }
   ],
   "source": [
    "plt.figure(figsize=(10, 6))\n",
    "age_manager_distribution_pd.set_index('Age_New').plot(kind='bar', stacked=True)\n",
    "plt.title('Manager Distribution by Age Group')\n",
    "plt.xlabel('Age Group')\n",
    "plt.ylabel('Count')\n",
    "plt.legend(title='Manager', labels=['Non-Manager', 'Manager'])\n",
    "plt.show()"
   ]
  },
  {
   "cell_type": "code",
   "execution_count": 115,
   "id": "9c804bfc",
   "metadata": {
    "scrolled": true
   },
   "outputs": [
    {
     "name": "stdout",
     "output_type": "stream",
     "text": [
      "+-------+------------------+\n",
      "|Manager|          avg(Age)|\n",
      "+-------+------------------+\n",
      "|      1|38.867482161060146|\n",
      "|      0|  38.8147859922179|\n",
      "+-------+------------------+\n",
      "\n"
     ]
    }
   ],
   "source": [
    "df_New.groupBy('Manager').mean('Age').show()"
   ]
  },
  {
   "cell_type": "markdown",
   "id": "9e896564",
   "metadata": {},
   "source": [
    "# Correlation "
   ]
  },
  {
   "cell_type": "code",
   "execution_count": 1,
   "id": "d0e4d4c0",
   "metadata": {},
   "outputs": [],
   "source": [
    "from pyspark.sql.functions import corr"
   ]
  },
  {
   "cell_type": "code",
   "execution_count": 15,
   "id": "80ea9116",
   "metadata": {},
   "outputs": [],
   "source": [
    "numeric_cols = [column[0] for column in df_New.dtypes if column[1] in ('int', 'double', 'float')]"
   ]
  },
  {
   "cell_type": "code",
   "execution_count": 17,
   "id": "61fa67c1",
   "metadata": {},
   "outputs": [],
   "source": [
    "# Calculate correlation matrix\n",
    "correlation_matrix = []\n",
    "for x in numeric_cols:\n",
    "    row = []\n",
    "    for y in numeric_cols:\n",
    "        corr_value = df.stat.corr(x, y)\n",
    "        row.append((y, corr_value))\n",
    "    correlation_matrix.append((x, row))"
   ]
  },
  {
   "cell_type": "code",
   "execution_count": 18,
   "id": "c0f594d5",
   "metadata": {},
   "outputs": [
    {
     "name": "stdout",
     "output_type": "stream",
     "text": [
      "Correlations for Division:\n",
      "  Division: 1.00\n",
      "  Manager: -0.01\n",
      "  Gender: 0.00\n",
      "  Sexual_Orientation: -0.01\n",
      "  LGBTQ: -0.01\n",
      "  Indigenous: -0.01\n",
      "  Ethnicity: -0.01\n",
      "  Disability: -0.00\n",
      "  Minority: 0.00\n",
      "  Veteran: -0.01\n",
      "  Age: -0.01\n",
      "\n",
      "\n",
      "Correlations for Manager:\n",
      "  Division: -0.01\n",
      "  Manager: 1.00\n",
      "  Gender: 0.01\n",
      "  Sexual_Orientation: -0.00\n",
      "  LGBTQ: -0.01\n",
      "  Indigenous: -0.01\n",
      "  Ethnicity: 0.00\n",
      "  Disability: -0.02\n",
      "  Minority: 0.02\n",
      "  Veteran: 0.01\n",
      "  Age: -0.00\n",
      "\n",
      "\n",
      "Correlations for Gender:\n",
      "  Division: 0.00\n",
      "  Manager: 0.01\n",
      "  Gender: 1.00\n",
      "  Sexual_Orientation: -0.00\n",
      "  LGBTQ: 0.06\n",
      "  Indigenous: 0.01\n",
      "  Ethnicity: -0.01\n",
      "  Disability: 0.00\n",
      "  Minority: 0.01\n",
      "  Veteran: 0.00\n",
      "  Age: 0.02\n",
      "\n",
      "\n",
      "Correlations for Sexual_Orientation:\n",
      "  Division: -0.01\n",
      "  Manager: -0.00\n",
      "  Gender: -0.00\n",
      "  Sexual_Orientation: 1.00\n",
      "  LGBTQ: 0.78\n",
      "  Indigenous: -0.01\n",
      "  Ethnicity: 0.02\n",
      "  Disability: -0.01\n",
      "  Minority: -0.00\n",
      "  Veteran: 0.01\n",
      "  Age: -0.01\n",
      "\n",
      "\n",
      "Correlations for LGBTQ:\n",
      "  Division: -0.01\n",
      "  Manager: -0.01\n",
      "  Gender: 0.06\n",
      "  Sexual_Orientation: 0.78\n",
      "  LGBTQ: 1.00\n",
      "  Indigenous: -0.01\n",
      "  Ethnicity: 0.02\n",
      "  Disability: -0.01\n",
      "  Minority: -0.00\n",
      "  Veteran: 0.01\n",
      "  Age: 0.01\n",
      "\n",
      "\n",
      "Correlations for Indigenous:\n",
      "  Division: -0.01\n",
      "  Manager: -0.01\n",
      "  Gender: 0.01\n",
      "  Sexual_Orientation: -0.01\n",
      "  LGBTQ: -0.01\n",
      "  Indigenous: 1.00\n",
      "  Ethnicity: 0.02\n",
      "  Disability: 0.02\n",
      "  Minority: -0.01\n",
      "  Veteran: -0.00\n",
      "  Age: 0.01\n",
      "\n",
      "\n",
      "Correlations for Ethnicity:\n",
      "  Division: -0.01\n",
      "  Manager: 0.00\n",
      "  Gender: -0.01\n",
      "  Sexual_Orientation: 0.02\n",
      "  LGBTQ: 0.02\n",
      "  Indigenous: 0.02\n",
      "  Ethnicity: 1.00\n",
      "  Disability: 0.01\n",
      "  Minority: 0.02\n",
      "  Veteran: -0.01\n",
      "  Age: 0.01\n",
      "\n",
      "\n",
      "Correlations for Disability:\n",
      "  Division: -0.00\n",
      "  Manager: -0.02\n",
      "  Gender: 0.00\n",
      "  Sexual_Orientation: -0.01\n",
      "  LGBTQ: -0.01\n",
      "  Indigenous: 0.02\n",
      "  Ethnicity: 0.01\n",
      "  Disability: 1.00\n",
      "  Minority: 0.00\n",
      "  Veteran: 0.00\n",
      "  Age: -0.01\n",
      "\n",
      "\n",
      "Correlations for Minority:\n",
      "  Division: 0.00\n",
      "  Manager: 0.02\n",
      "  Gender: 0.01\n",
      "  Sexual_Orientation: -0.00\n",
      "  LGBTQ: -0.00\n",
      "  Indigenous: -0.01\n",
      "  Ethnicity: 0.02\n",
      "  Disability: 0.00\n",
      "  Minority: 1.00\n",
      "  Veteran: 0.00\n",
      "  Age: -0.01\n",
      "\n",
      "\n",
      "Correlations for Veteran:\n",
      "  Division: -0.01\n",
      "  Manager: 0.01\n",
      "  Gender: 0.00\n",
      "  Sexual_Orientation: 0.01\n",
      "  LGBTQ: 0.01\n",
      "  Indigenous: -0.00\n",
      "  Ethnicity: -0.01\n",
      "  Disability: 0.00\n",
      "  Minority: 0.00\n",
      "  Veteran: 1.00\n",
      "  Age: -0.00\n",
      "\n",
      "\n",
      "Correlations for Age:\n",
      "  Division: -0.01\n",
      "  Manager: -0.00\n",
      "  Gender: 0.02\n",
      "  Sexual_Orientation: -0.01\n",
      "  LGBTQ: 0.01\n",
      "  Indigenous: 0.01\n",
      "  Ethnicity: 0.01\n",
      "  Disability: -0.01\n",
      "  Minority: -0.01\n",
      "  Veteran: -0.00\n",
      "  Age: 1.00\n",
      "\n",
      "\n"
     ]
    }
   ],
   "source": [
    "# Display the correlation matrix\n",
    "for row in correlation_matrix:\n",
    "    print(f\"Correlations for {row[0]}:\")\n",
    "    for col_corr in row[1]:\n",
    "        print(f\"  {col_corr[0]}: {col_corr[1]:.2f}\")\n",
    "    print(\"\\n\")"
   ]
  }
 ],
 "metadata": {
  "kernelspec": {
   "display_name": "Python 3 (ipykernel)",
   "language": "python",
   "name": "python3"
  },
  "language_info": {
   "codemirror_mode": {
    "name": "ipython",
    "version": 3
   },
   "file_extension": ".py",
   "mimetype": "text/x-python",
   "name": "python",
   "nbconvert_exporter": "python",
   "pygments_lexer": "ipython3",
   "version": "3.10.12"
  }
 },
 "nbformat": 4,
 "nbformat_minor": 5
}
